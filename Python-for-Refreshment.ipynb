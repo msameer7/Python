{
 "cells": [
  {
   "cell_type": "markdown",
   "id": "a3271384",
   "metadata": {},
   "source": [
    "## Testing our first Python Program"
   ]
  },
  {
   "cell_type": "code",
   "execution_count": 1,
   "id": "1a135159",
   "metadata": {},
   "outputs": [
    {
     "name": "stdout",
     "output_type": "stream",
     "text": [
      "Hello World\n"
     ]
    }
   ],
   "source": [
    "print(\"Hello World\")"
   ]
  },
  {
   "cell_type": "markdown",
   "id": "fbff5a1f",
   "metadata": {},
   "source": [
    "## Sum between two Numbers"
   ]
  },
  {
   "cell_type": "code",
   "execution_count": 2,
   "id": "e17a39db",
   "metadata": {},
   "outputs": [
    {
     "name": "stdout",
     "output_type": "stream",
     "text": [
      "9\n"
     ]
    }
   ],
   "source": [
    "print(4+5)"
   ]
  },
  {
   "cell_type": "markdown",
   "id": "c4dbd4b2",
   "metadata": {},
   "source": [
    "## Identation in Python"
   ]
  },
  {
   "cell_type": "code",
   "execution_count": 4,
   "id": "c5ef3380",
   "metadata": {},
   "outputs": [
    {
     "name": "stdout",
     "output_type": "stream",
     "text": [
      "You are not Allowed\n"
     ]
    }
   ],
   "source": [
    "# These identation in Python needs to be get done perfectly well\n",
    "# other wise your code could made errors in it.\n",
    "\n",
    "age = 20\n",
    "if(age<19):\n",
    "    print(\"You are Allowed\")\n",
    "else:\n",
    "    print(\"You are not Allowed\")"
   ]
  },
  {
   "cell_type": "markdown",
   "id": "bf3032fc",
   "metadata": {},
   "source": [
    "## Module and Import Statments"
   ]
  },
  {
   "cell_type": "code",
   "execution_count": 6,
   "id": "b00e6785",
   "metadata": {},
   "outputs": [],
   "source": [
    "#!pip install pandas\n",
    "#!pip install numpy \n",
    "\n",
    "# Above mentioned '!pip install' or 'pip install' is used to install libraries"
   ]
  },
  {
   "cell_type": "code",
   "execution_count": 7,
   "id": "69042a01",
   "metadata": {},
   "outputs": [],
   "source": [
    "import pandas as pd\n",
    "import math as mt\n",
    "\n",
    "# Above mentioned program are being used to import or upload the libraries"
   ]
  },
  {
   "cell_type": "markdown",
   "id": "5411132b",
   "metadata": {},
   "source": [
    "## Variables in Python"
   ]
  },
  {
   "cell_type": "code",
   "execution_count": 12,
   "id": "a3afb16b",
   "metadata": {},
   "outputs": [
    {
     "name": "stdout",
     "output_type": "stream",
     "text": [
      "44 + 55 are\n",
      "99\n"
     ]
    }
   ],
   "source": [
    "# Thats how you store values strings in Python \n",
    "\n",
    "a = '44 + 55 are'\n",
    "b = 44\n",
    "c = 55\n",
    "print(a)\n",
    "print(b+c)"
   ]
  },
  {
   "cell_type": "code",
   "execution_count": 14,
   "id": "27519eb8",
   "metadata": {},
   "outputs": [
    {
     "name": "stdout",
     "output_type": "stream",
     "text": [
      "<class 'int'>\n",
      "17\n"
     ]
    }
   ],
   "source": [
    "e = 15\n",
    "print(type(e))\n",
    "print(2+e)"
   ]
  },
  {
   "cell_type": "markdown",
   "id": "ac44eea7",
   "metadata": {},
   "source": [
    "## Type Casting"
   ]
  },
  {
   "cell_type": "code",
   "execution_count": 18,
   "id": "e831e013",
   "metadata": {},
   "outputs": [
    {
     "name": "stdout",
     "output_type": "stream",
     "text": [
      "<class 'int'>\n",
      "25\n"
     ]
    }
   ],
   "source": [
    "e = \"23\"\n",
    "c = int(e)\n",
    "print(type(c))\n",
    "print(2+c)"
   ]
  },
  {
   "cell_type": "markdown",
   "id": "d8944f50",
   "metadata": {},
   "source": [
    "## Strings"
   ]
  },
  {
   "cell_type": "code",
   "execution_count": 20,
   "id": "6f7fcdaa",
   "metadata": {},
   "outputs": [
    {
     "name": "stdout",
     "output_type": "stream",
     "text": [
      "Sameer\n",
      "\n",
      "Sameer is a good boy!\n",
      "\n"
     ]
    }
   ],
   "source": [
    "name = 'Sameer'\n",
    "print(name)\n",
    "\n",
    "nam = '''\n",
    "Sameer is a good boy!\n",
    "'''\n",
    "print(nam)"
   ]
  },
  {
   "cell_type": "code",
   "execution_count": 30,
   "id": "2394a801",
   "metadata": {},
   "outputs": [
    {
     "data": {
      "text/plain": [
       "'Sam'"
      ]
     },
     "execution_count": 30,
     "metadata": {},
     "output_type": "execute_result"
    }
   ],
   "source": [
    "# SLicing\n",
    "name[:3]"
   ]
  },
  {
   "cell_type": "code",
   "execution_count": 34,
   "id": "59ebc400",
   "metadata": {},
   "outputs": [
    {
     "data": {
      "text/plain": [
       "'eer'"
      ]
     },
     "execution_count": 34,
     "metadata": {},
     "output_type": "execute_result"
    }
   ],
   "source": [
    "name[3:]"
   ]
  },
  {
   "cell_type": "code",
   "execution_count": 40,
   "id": "36971f6b",
   "metadata": {},
   "outputs": [
    {
     "data": {
      "text/plain": [
       "'meer'"
      ]
     },
     "execution_count": 40,
     "metadata": {},
     "output_type": "execute_result"
    }
   ],
   "source": [
    "name[2:]"
   ]
  },
  {
   "cell_type": "code",
   "execution_count": 44,
   "id": "cc5af44a",
   "metadata": {},
   "outputs": [
    {
     "data": {
      "text/plain": [
       "'sameer'"
      ]
     },
     "execution_count": 44,
     "metadata": {},
     "output_type": "execute_result"
    }
   ],
   "source": [
    "var = name.lower()\n",
    "var"
   ]
  },
  {
   "cell_type": "code",
   "execution_count": 45,
   "id": "5443101a",
   "metadata": {},
   "outputs": [
    {
     "data": {
      "text/plain": [
       "'SAMEER'"
      ]
     },
     "execution_count": 45,
     "metadata": {},
     "output_type": "execute_result"
    }
   ],
   "source": [
    "var = name.upper()\n",
    "var"
   ]
  },
  {
   "cell_type": "code",
   "execution_count": 46,
   "id": "49cbd373",
   "metadata": {},
   "outputs": [],
   "source": [
    "var = name.replace(\"r\", \"t\")"
   ]
  },
  {
   "cell_type": "code",
   "execution_count": 47,
   "id": "0900c17a",
   "metadata": {},
   "outputs": [
    {
     "data": {
      "text/plain": [
       "'Sameet'"
      ]
     },
     "execution_count": 47,
     "metadata": {},
     "output_type": "execute_result"
    }
   ],
   "source": [
    "var"
   ]
  },
  {
   "cell_type": "markdown",
   "id": "167fcde4",
   "metadata": {},
   "source": [
    "## Operators"
   ]
  },
  {
   "cell_type": "code",
   "execution_count": 48,
   "id": "9339a589",
   "metadata": {},
   "outputs": [],
   "source": [
    "'''\n",
    "+\n",
    "-\n",
    "*\n",
    "/\n",
    "//\n",
    "**\n",
    "\n",
    "'''\n",
    "\n",
    "a = 11\n",
    "b = 44\n",
    "c = 45\n",
    "d = 545"
   ]
  },
  {
   "cell_type": "code",
   "execution_count": 49,
   "id": "92f31fda",
   "metadata": {},
   "outputs": [
    {
     "name": "stdout",
     "output_type": "stream",
     "text": [
      "55\n"
     ]
    }
   ],
   "source": [
    "print(a+b)"
   ]
  },
  {
   "cell_type": "code",
   "execution_count": 50,
   "id": "d0e0a242",
   "metadata": {},
   "outputs": [
    {
     "name": "stdout",
     "output_type": "stream",
     "text": [
      "-500\n"
     ]
    }
   ],
   "source": [
    "print(c-d)"
   ]
  },
  {
   "cell_type": "code",
   "execution_count": 51,
   "id": "f860f0ce",
   "metadata": {},
   "outputs": [
    {
     "name": "stdout",
     "output_type": "stream",
     "text": [
      "0.02018348623853211\n"
     ]
    }
   ],
   "source": [
    "print(a/d)"
   ]
  },
  {
   "cell_type": "code",
   "execution_count": 52,
   "id": "f42a9303",
   "metadata": {},
   "outputs": [
    {
     "name": "stdout",
     "output_type": "stream",
     "text": [
      "484\n"
     ]
    }
   ],
   "source": [
    "print(a*b)"
   ]
  },
  {
   "cell_type": "code",
   "execution_count": 53,
   "id": "928076d3",
   "metadata": {},
   "outputs": [
    {
     "name": "stdout",
     "output_type": "stream",
     "text": [
      "121\n"
     ]
    }
   ],
   "source": [
    "print(a**2)"
   ]
  },
  {
   "cell_type": "code",
   "execution_count": 54,
   "id": "3da68682",
   "metadata": {},
   "outputs": [
    {
     "name": "stdout",
     "output_type": "stream",
     "text": [
      "49\n"
     ]
    }
   ],
   "source": [
    "print(d//a)"
   ]
  },
  {
   "cell_type": "markdown",
   "id": "675248ef",
   "metadata": {},
   "source": [
    "## List and Slicing"
   ]
  },
  {
   "cell_type": "code",
   "execution_count": 56,
   "id": "8b806650",
   "metadata": {},
   "outputs": [
    {
     "data": {
      "text/plain": [
       "[1, 2, 3, 4, 5, 6]"
      ]
     },
     "execution_count": 56,
     "metadata": {},
     "output_type": "execute_result"
    }
   ],
   "source": [
    "lst = [1,2,3,4,5,6]\n",
    "lst"
   ]
  },
  {
   "cell_type": "code",
   "execution_count": 57,
   "id": "74fc121b",
   "metadata": {},
   "outputs": [
    {
     "data": {
      "text/plain": [
       "2"
      ]
     },
     "execution_count": 57,
     "metadata": {},
     "output_type": "execute_result"
    }
   ],
   "source": [
    "lst[1]"
   ]
  },
  {
   "cell_type": "code",
   "execution_count": 60,
   "id": "bebfc2e2",
   "metadata": {},
   "outputs": [
    {
     "data": {
      "text/plain": [
       "[6]"
      ]
     },
     "execution_count": 60,
     "metadata": {},
     "output_type": "execute_result"
    }
   ],
   "source": [
    "lst[5:]"
   ]
  },
  {
   "cell_type": "code",
   "execution_count": 61,
   "id": "6a5dbe9b",
   "metadata": {},
   "outputs": [
    {
     "data": {
      "text/plain": [
       "[2, 3, 4, 5]"
      ]
     },
     "execution_count": 61,
     "metadata": {},
     "output_type": "execute_result"
    }
   ],
   "source": [
    "lst[1:5]"
   ]
  },
  {
   "cell_type": "code",
   "execution_count": 62,
   "id": "a523f355",
   "metadata": {},
   "outputs": [
    {
     "data": {
      "text/plain": [
       "list"
      ]
     },
     "execution_count": 62,
     "metadata": {},
     "output_type": "execute_result"
    }
   ],
   "source": [
    "type(lst)"
   ]
  },
  {
   "cell_type": "code",
   "execution_count": 63,
   "id": "96eed381",
   "metadata": {},
   "outputs": [],
   "source": [
    "# Changing the item\n",
    "lst[3] = 3.0"
   ]
  },
  {
   "cell_type": "code",
   "execution_count": 64,
   "id": "34def3bd",
   "metadata": {},
   "outputs": [
    {
     "data": {
      "text/plain": [
       "[1, 2, 3, 3.0, 5, 6]"
      ]
     },
     "execution_count": 64,
     "metadata": {},
     "output_type": "execute_result"
    }
   ],
   "source": [
    "lst"
   ]
  },
  {
   "cell_type": "markdown",
   "id": "3047ffca",
   "metadata": {},
   "source": [
    "## Tuple"
   ]
  },
  {
   "cell_type": "code",
   "execution_count": 65,
   "id": "f1bea332",
   "metadata": {},
   "outputs": [
    {
     "data": {
      "text/plain": [
       "(1, 2, 3, 4, 5, 6)"
      ]
     },
     "execution_count": 65,
     "metadata": {},
     "output_type": "execute_result"
    }
   ],
   "source": [
    "tuple = (1,2,3,4,5,6)\n",
    "tuple"
   ]
  },
  {
   "cell_type": "code",
   "execution_count": 69,
   "id": "da69f2a2",
   "metadata": {},
   "outputs": [],
   "source": [
    "# tuple(2) == 3.4\n",
    "# You cannot change the tuple"
   ]
  },
  {
   "cell_type": "code",
   "execution_count": 72,
   "id": "0da99eef",
   "metadata": {},
   "outputs": [
    {
     "data": {
      "text/plain": [
       "(2, 3, 4)"
      ]
     },
     "execution_count": 72,
     "metadata": {},
     "output_type": "execute_result"
    }
   ],
   "source": [
    "## Tuple accessing\n",
    "tuple[1:4]"
   ]
  },
  {
   "cell_type": "markdown",
   "id": "6620d97e",
   "metadata": {},
   "source": [
    "## Set"
   ]
  },
  {
   "cell_type": "code",
   "execution_count": 73,
   "id": "081de52e",
   "metadata": {},
   "outputs": [
    {
     "data": {
      "text/plain": [
       "set"
      ]
     },
     "execution_count": 73,
     "metadata": {},
     "output_type": "execute_result"
    }
   ],
   "source": [
    "'''\n",
    "The only diff we have between set and dictionary \n",
    "is set can not have repeated values\n",
    "'''\n",
    "\n",
    "set = {1,2,2,2,2,4,5,6,7,8}\n",
    "\n",
    "type(set)"
   ]
  },
  {
   "cell_type": "code",
   "execution_count": 74,
   "id": "4bef35db",
   "metadata": {},
   "outputs": [
    {
     "name": "stdout",
     "output_type": "stream",
     "text": [
      "{1, 2, 4, 5, 6, 7, 8}\n"
     ]
    }
   ],
   "source": [
    "print(set)"
   ]
  },
  {
   "cell_type": "markdown",
   "id": "218c01f9",
   "metadata": {},
   "source": [
    "## Dictionary"
   ]
  },
  {
   "cell_type": "code",
   "execution_count": 78,
   "id": "fab1c822",
   "metadata": {},
   "outputs": [
    {
     "data": {
      "text/plain": [
       "{'name': 'Sameer', 'age': 12, 'Marks': 24.24}"
      ]
     },
     "execution_count": 78,
     "metadata": {},
     "output_type": "execute_result"
    }
   ],
   "source": [
    "myDict = {\n",
    "    \n",
    "    'name':'Sameer',\n",
    "     'age':12,\n",
    "     'Marks':24.24   \n",
    "}\n",
    "\n",
    "myDict"
   ]
  },
  {
   "cell_type": "code",
   "execution_count": 79,
   "id": "396b8b98",
   "metadata": {},
   "outputs": [
    {
     "data": {
      "text/plain": [
       "'Sameer'"
      ]
     },
     "execution_count": 79,
     "metadata": {},
     "output_type": "execute_result"
    }
   ],
   "source": [
    "myDict['name']"
   ]
  },
  {
   "cell_type": "markdown",
   "id": "29714888",
   "metadata": {},
   "source": [
    "## Python Dict functions\n",
    "\n",
    "'''\n",
    "\n",
    "list.append(x)\n",
    "\n",
    "    Add an item to the end of the list. Equivalent to a[len(a):] = [x].\n",
    "\n",
    "list.extend(iterable)\n",
    "\n",
    "    Extend the list by appending all the items from the iterable. Equivalent to a[len(a):] = iterable.\n",
    "\n",
    "list.insert(i, x)\n",
    "\n",
    "    Insert an item at a given position. The first argument is the index of the element before which to insert, so a.insert(0, x) inserts at the front of the list, and a.insert(len(a), x) is equivalent to a.append(x).\n",
    "\n",
    "list.remove(x)\n",
    "\n",
    "    Remove the first item from the list whose value is equal to x. It raises a ValueError if there is no such item.\n",
    "\n",
    "list.pop([i])\n",
    "\n",
    "    Remove the item at the given position in the list, and return it. If no index is specified, a.pop() removes and returns the last item in the list. (The square brackets around the i in the method signature denote that the parameter is optional, not that you should type square brackets at that position. You will see this notation frequently in the Python Library Reference.)\n",
    "\n",
    "list.clear()\n",
    "    Remove all items from the list. Equivalent to del a[:].\n",
    "'''"
   ]
  },
  {
   "cell_type": "markdown",
   "id": "e805f2e2",
   "metadata": {},
   "source": [
    "## Conditional Statments"
   ]
  },
  {
   "cell_type": "code",
   "execution_count": 87,
   "id": "8c727fb8",
   "metadata": {},
   "outputs": [
    {
     "name": "stdout",
     "output_type": "stream",
     "text": [
      "Enter Your age: 12\n",
      "You cannot drive!\n"
     ]
    }
   ],
   "source": [
    "age = int(input(\"Enter Your age: \"))\n",
    "if(age>18):\n",
    "    print(\"You can drive!\")\n",
    "elif(age>=15):\n",
    "    print(\"You can drive but Don't forget to use Seat belt xD\")\n",
    "else:\n",
    "    print('You cannot drive!')\n",
    "    "
   ]
  },
  {
   "cell_type": "markdown",
   "id": "c738224e",
   "metadata": {},
   "source": [
    "## Loops"
   ]
  },
  {
   "cell_type": "code",
   "execution_count": 90,
   "id": "378491b0",
   "metadata": {},
   "outputs": [
    {
     "name": "stdout",
     "output_type": "stream",
     "text": [
      "1\n",
      "2\n",
      "3\n",
      "4\n",
      "5\n",
      "6\n",
      "7\n",
      "8\n",
      "9\n",
      "10\n",
      "11\n",
      "12\n",
      "13\n",
      "14\n",
      "15\n",
      "16\n",
      "17\n",
      "18\n",
      "19\n",
      "20\n",
      "21\n",
      "22\n",
      "23\n",
      "24\n",
      "25\n",
      "26\n",
      "27\n",
      "28\n",
      "29\n",
      "30\n",
      "31\n",
      "32\n",
      "33\n",
      "34\n",
      "35\n",
      "36\n",
      "37\n",
      "38\n",
      "39\n",
      "40\n",
      "41\n",
      "42\n",
      "43\n",
      "44\n",
      "45\n",
      "46\n",
      "47\n",
      "48\n",
      "49\n",
      "50\n",
      "51\n",
      "52\n",
      "53\n",
      "54\n",
      "55\n",
      "56\n",
      "57\n",
      "58\n",
      "59\n",
      "60\n",
      "61\n",
      "62\n",
      "63\n",
      "64\n",
      "65\n",
      "66\n",
      "67\n",
      "68\n",
      "69\n",
      "70\n",
      "71\n",
      "72\n",
      "73\n",
      "74\n",
      "75\n",
      "76\n",
      "77\n",
      "78\n",
      "79\n",
      "80\n",
      "81\n",
      "82\n",
      "83\n",
      "84\n",
      "85\n",
      "86\n",
      "87\n",
      "88\n",
      "89\n",
      "90\n",
      "91\n",
      "92\n",
      "93\n",
      "94\n",
      "95\n",
      "96\n",
      "97\n",
      "98\n",
      "99\n",
      "100\n"
     ]
    }
   ],
   "source": [
    "# Print Numbers between 1 to 100 with using for or while loop\n",
    "\n",
    "for i in range(0,100):\n",
    "    print(i+1)"
   ]
  },
  {
   "cell_type": "code",
   "execution_count": 91,
   "id": "9cfd75b7",
   "metadata": {},
   "outputs": [
    {
     "name": "stdout",
     "output_type": "stream",
     "text": [
      "123\n",
      "444\n",
      "567\n"
     ]
    }
   ],
   "source": [
    "li = [123,444,567]\n",
    "for item in li:\n",
    "    print(item)"
   ]
  },
  {
   "cell_type": "code",
   "execution_count": 92,
   "id": "d3b86fbe",
   "metadata": {},
   "outputs": [
    {
     "name": "stdout",
     "output_type": "stream",
     "text": [
      "name\n",
      "age\n",
      "Marks\n"
     ]
    }
   ],
   "source": [
    "for item in myDict:\n",
    "    print(item)"
   ]
  },
  {
   "cell_type": "code",
   "execution_count": 95,
   "id": "09b1da76",
   "metadata": {},
   "outputs": [
    {
     "name": "stdout",
     "output_type": "stream",
     "text": [
      "1\n",
      "2\n",
      "3\n",
      "4\n",
      "5\n",
      "6\n",
      "7\n",
      "8\n",
      "9\n",
      "10\n",
      "11\n",
      "12\n",
      "13\n",
      "14\n",
      "15\n",
      "16\n",
      "17\n",
      "18\n",
      "19\n",
      "20\n",
      "21\n",
      "22\n",
      "23\n",
      "24\n",
      "25\n",
      "26\n",
      "27\n",
      "28\n",
      "29\n",
      "30\n",
      "31\n",
      "32\n",
      "33\n",
      "34\n",
      "35\n",
      "36\n",
      "37\n",
      "38\n",
      "39\n",
      "40\n",
      "41\n",
      "42\n",
      "43\n",
      "44\n",
      "45\n",
      "46\n",
      "47\n",
      "48\n",
      "49\n",
      "50\n",
      "51\n",
      "52\n",
      "53\n",
      "54\n",
      "55\n",
      "56\n",
      "57\n",
      "58\n",
      "59\n",
      "60\n",
      "61\n",
      "62\n",
      "63\n",
      "64\n",
      "65\n",
      "66\n",
      "67\n",
      "68\n",
      "69\n",
      "70\n",
      "71\n",
      "72\n",
      "73\n",
      "74\n",
      "75\n",
      "76\n",
      "77\n",
      "78\n",
      "79\n",
      "80\n",
      "81\n",
      "82\n",
      "83\n",
      "84\n",
      "85\n",
      "86\n",
      "87\n",
      "88\n",
      "89\n",
      "90\n",
      "91\n",
      "92\n",
      "93\n",
      "94\n",
      "95\n",
      "96\n",
      "97\n",
      "98\n",
      "99\n",
      "100\n"
     ]
    }
   ],
   "source": [
    "## While Loop\n",
    "i = 0\n",
    "while(i<100):\n",
    "    print(i+1)\n",
    "    i = i + 1"
   ]
  },
  {
   "cell_type": "code",
   "execution_count": 97,
   "id": "90943787",
   "metadata": {},
   "outputs": [
    {
     "name": "stdout",
     "output_type": "stream",
     "text": [
      "0\n",
      "1\n",
      "2\n",
      "3\n",
      "4\n",
      "5\n",
      "6\n",
      "7\n",
      "8\n",
      "9\n",
      "10\n",
      "11\n",
      "12\n",
      "13\n",
      "14\n",
      "15\n",
      "16\n",
      "17\n",
      "18\n",
      "19\n",
      "20\n",
      "21\n",
      "22\n",
      "23\n",
      "24\n",
      "25\n",
      "26\n",
      "27\n",
      "28\n",
      "29\n",
      "30\n",
      "31\n",
      "32\n",
      "33\n",
      "34\n",
      "35\n",
      "36\n",
      "37\n",
      "38\n",
      "39\n",
      "40\n",
      "41\n",
      "42\n",
      "43\n",
      "44\n",
      "45\n",
      "46\n",
      "47\n",
      "48\n",
      "49\n",
      "50\n",
      "51\n",
      "52\n",
      "53\n",
      "54\n",
      "55\n",
      "56\n",
      "57\n",
      "58\n",
      "59\n",
      "60\n",
      "61\n",
      "62\n",
      "63\n",
      "64\n",
      "65\n",
      "66\n",
      "67\n",
      "68\n",
      "69\n",
      "70\n",
      "71\n",
      "72\n",
      "73\n",
      "74\n",
      "75\n",
      "76\n",
      "77\n",
      "78\n",
      "79\n",
      "80\n"
     ]
    }
   ],
   "source": [
    "## While Loop\n",
    "i = 0\n",
    "while(i<100):\n",
    "    print(i)\n",
    "    if i == 80:\n",
    "        break\n",
    "    i = i + 1"
   ]
  },
  {
   "cell_type": "code",
   "execution_count": 98,
   "id": "c8c484d8",
   "metadata": {},
   "outputs": [
    {
     "name": "stdout",
     "output_type": "stream",
     "text": [
      "2\n",
      "3\n",
      "4\n",
      "5\n",
      "6\n",
      "7\n",
      "8\n",
      "9\n",
      "10\n",
      "11\n",
      "12\n",
      "13\n",
      "14\n",
      "15\n",
      "16\n",
      "17\n",
      "18\n",
      "19\n",
      "20\n",
      "21\n",
      "22\n",
      "23\n",
      "24\n",
      "25\n",
      "26\n",
      "27\n",
      "28\n",
      "29\n",
      "30\n",
      "31\n",
      "32\n",
      "33\n",
      "34\n",
      "35\n",
      "36\n",
      "37\n",
      "38\n",
      "39\n",
      "40\n",
      "41\n",
      "42\n",
      "43\n",
      "44\n",
      "45\n",
      "46\n",
      "47\n",
      "48\n",
      "49\n",
      "50\n",
      "51\n",
      "52\n",
      "53\n",
      "54\n",
      "55\n",
      "56\n",
      "57\n",
      "58\n",
      "59\n",
      "60\n",
      "61\n",
      "62\n",
      "63\n",
      "64\n",
      "65\n",
      "66\n",
      "67\n",
      "68\n",
      "69\n",
      "70\n",
      "71\n",
      "72\n",
      "73\n",
      "74\n",
      "75\n",
      "76\n",
      "77\n",
      "78\n",
      "79\n",
      "80\n",
      "82\n",
      "83\n",
      "84\n",
      "85\n",
      "86\n",
      "87\n",
      "88\n",
      "89\n",
      "90\n",
      "91\n",
      "92\n",
      "93\n",
      "94\n",
      "95\n",
      "96\n",
      "97\n",
      "98\n",
      "99\n",
      "100\n",
      "101\n"
     ]
    }
   ],
   "source": [
    "## While Loop\n",
    "i = 0\n",
    "while(i<100):\n",
    "    i = i + 1\n",
    "    if i == 80:\n",
    "        continue\n",
    "    print(i+1)"
   ]
  },
  {
   "cell_type": "markdown",
   "id": "03d36c32",
   "metadata": {},
   "source": [
    "## Functions"
   ]
  },
  {
   "cell_type": "code",
   "execution_count": 102,
   "id": "d53f5f85",
   "metadata": {},
   "outputs": [],
   "source": [
    "def greeting():\n",
    "    print(\"Hello Sir!\")"
   ]
  },
  {
   "cell_type": "code",
   "execution_count": 104,
   "id": "587f9b4c",
   "metadata": {},
   "outputs": [
    {
     "name": "stdout",
     "output_type": "stream",
     "text": [
      "Hello Sir!\n"
     ]
    }
   ],
   "source": [
    "greeting()"
   ]
  },
  {
   "cell_type": "code",
   "execution_count": 113,
   "id": "3c1dfb2d",
   "metadata": {},
   "outputs": [],
   "source": [
    "def sum(a,b):\n",
    "    c = a + b\n",
    "    return c"
   ]
  },
  {
   "cell_type": "code",
   "execution_count": 114,
   "id": "fbd0e711",
   "metadata": {},
   "outputs": [
    {
     "data": {
      "text/plain": [
       "45"
      ]
     },
     "execution_count": 114,
     "metadata": {},
     "output_type": "execute_result"
    }
   ],
   "source": [
    "sum(12,33)"
   ]
  },
  {
   "cell_type": "markdown",
   "id": "be5112fb",
   "metadata": {},
   "source": [
    "## Project \n",
    "### Create a basic Python program to solve a mathematical problem."
   ]
  },
  {
   "cell_type": "code",
   "execution_count": 122,
   "id": "06c2b85e",
   "metadata": {},
   "outputs": [],
   "source": [
    "def sum(a,b):\n",
    "    c = a + b\n",
    "    d = a - b\n",
    "    e = a/b\n",
    "    f = a * b\n",
    "    return c, d, e, f"
   ]
  },
  {
   "cell_type": "code",
   "execution_count": 123,
   "id": "7e07f4b3",
   "metadata": {},
   "outputs": [
    {
     "name": "stdout",
     "output_type": "stream",
     "text": [
      "Enter Your 1st Number:22\n"
     ]
    }
   ],
   "source": [
    "a = int(input(\"Enter Your 1st Number:\"))"
   ]
  },
  {
   "cell_type": "code",
   "execution_count": 124,
   "id": "7f8251e2",
   "metadata": {},
   "outputs": [
    {
     "name": "stdout",
     "output_type": "stream",
     "text": [
      "Enter Your 2nd Number:32\n"
     ]
    }
   ],
   "source": [
    "b = int(input(\"Enter Your 2nd Number:\"))"
   ]
  },
  {
   "cell_type": "code",
   "execution_count": 125,
   "id": "6f5ec1e1",
   "metadata": {},
   "outputs": [
    {
     "data": {
      "text/plain": [
       "(54, -10, 0.6875, 704)"
      ]
     },
     "execution_count": 125,
     "metadata": {},
     "output_type": "execute_result"
    }
   ],
   "source": [
    "sum(a,b)"
   ]
  }
 ],
 "metadata": {
  "kernelspec": {
   "display_name": "Python 3 (ipykernel)",
   "language": "python",
   "name": "python3"
  },
  "language_info": {
   "codemirror_mode": {
    "name": "ipython",
    "version": 3
   },
   "file_extension": ".py",
   "mimetype": "text/x-python",
   "name": "python",
   "nbconvert_exporter": "python",
   "pygments_lexer": "ipython3",
   "version": "3.10.9"
  }
 },
 "nbformat": 4,
 "nbformat_minor": 5
}
