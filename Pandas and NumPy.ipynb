{
 "cells": [
  {
   "cell_type": "code",
   "execution_count": 1,
   "id": "95f91f60",
   "metadata": {},
   "outputs": [],
   "source": [
    "import numpy as np\n",
    "import pandas as pd"
   ]
  },
  {
   "cell_type": "markdown",
   "id": "39b32f09",
   "metadata": {},
   "source": [
    "## Creating Array"
   ]
  },
  {
   "cell_type": "code",
   "execution_count": 18,
   "id": "08d39682",
   "metadata": {},
   "outputs": [],
   "source": [
    "a = np.random.rand(20,4)"
   ]
  },
  {
   "cell_type": "code",
   "execution_count": 19,
   "id": "320b49e5",
   "metadata": {},
   "outputs": [
    {
     "data": {
      "text/plain": [
       "array([[0.70525961, 0.29206708, 0.46993246, 0.71283672],\n",
       "       [0.05167501, 0.33805195, 0.99640788, 0.46299262],\n",
       "       [0.56471068, 0.87423599, 0.88838598, 0.17047868],\n",
       "       [0.73369594, 0.16763548, 0.12956739, 0.6107671 ],\n",
       "       [0.42630044, 0.68186019, 0.53631241, 0.6303985 ],\n",
       "       [0.70532299, 0.32639372, 0.72234003, 0.16897891],\n",
       "       [0.90256552, 0.76768775, 0.05957802, 0.00924293],\n",
       "       [0.75134203, 0.94410323, 0.69050233, 0.37661122],\n",
       "       [0.64094524, 0.19323713, 0.25304926, 0.98097205],\n",
       "       [0.9319094 , 0.76553569, 0.57118829, 0.70739205],\n",
       "       [0.54491223, 0.37859122, 0.93097653, 0.61431089],\n",
       "       [0.87791591, 0.069718  , 0.06055669, 0.06180414],\n",
       "       [0.05910058, 0.02347966, 0.25259033, 0.05751965],\n",
       "       [0.84595895, 0.57508527, 0.40464816, 0.18963798],\n",
       "       [0.67098641, 0.91793792, 0.99627053, 0.80391525],\n",
       "       [0.72278475, 0.72433754, 0.43648405, 0.5346508 ],\n",
       "       [0.34000362, 0.40319685, 0.28353965, 0.38963923],\n",
       "       [0.56108065, 0.19712635, 0.17148007, 0.37203283],\n",
       "       [0.30649175, 0.00569234, 0.52302147, 0.87243149],\n",
       "       [0.09268216, 0.65318905, 0.61318501, 0.22684214]])"
      ]
     },
     "execution_count": 19,
     "metadata": {},
     "output_type": "execute_result"
    }
   ],
   "source": [
    "a"
   ]
  },
  {
   "cell_type": "markdown",
   "id": "2c44c197",
   "metadata": {},
   "source": [
    "## Converting Array into Pandas"
   ]
  },
  {
   "cell_type": "code",
   "execution_count": 20,
   "id": "4590e455",
   "metadata": {},
   "outputs": [],
   "source": [
    "df = pd. DataFrame(a, columns=['Column1', 'Column2','Column3','Column4']) "
   ]
  },
  {
   "cell_type": "markdown",
   "id": "4545a275",
   "metadata": {},
   "source": [
    "## Applying some main and basic Pandas function"
   ]
  },
  {
   "cell_type": "code",
   "execution_count": 21,
   "id": "46b0bf15",
   "metadata": {},
   "outputs": [
    {
     "data": {
      "text/html": [
       "<div>\n",
       "<style scoped>\n",
       "    .dataframe tbody tr th:only-of-type {\n",
       "        vertical-align: middle;\n",
       "    }\n",
       "\n",
       "    .dataframe tbody tr th {\n",
       "        vertical-align: top;\n",
       "    }\n",
       "\n",
       "    .dataframe thead th {\n",
       "        text-align: right;\n",
       "    }\n",
       "</style>\n",
       "<table border=\"1\" class=\"dataframe\">\n",
       "  <thead>\n",
       "    <tr style=\"text-align: right;\">\n",
       "      <th></th>\n",
       "      <th>Column1</th>\n",
       "      <th>Column2</th>\n",
       "      <th>Column3</th>\n",
       "      <th>Column4</th>\n",
       "    </tr>\n",
       "  </thead>\n",
       "  <tbody>\n",
       "    <tr>\n",
       "      <th>0</th>\n",
       "      <td>0.705260</td>\n",
       "      <td>0.292067</td>\n",
       "      <td>0.469932</td>\n",
       "      <td>0.712837</td>\n",
       "    </tr>\n",
       "    <tr>\n",
       "      <th>1</th>\n",
       "      <td>0.051675</td>\n",
       "      <td>0.338052</td>\n",
       "      <td>0.996408</td>\n",
       "      <td>0.462993</td>\n",
       "    </tr>\n",
       "    <tr>\n",
       "      <th>2</th>\n",
       "      <td>0.564711</td>\n",
       "      <td>0.874236</td>\n",
       "      <td>0.888386</td>\n",
       "      <td>0.170479</td>\n",
       "    </tr>\n",
       "    <tr>\n",
       "      <th>3</th>\n",
       "      <td>0.733696</td>\n",
       "      <td>0.167635</td>\n",
       "      <td>0.129567</td>\n",
       "      <td>0.610767</td>\n",
       "    </tr>\n",
       "    <tr>\n",
       "      <th>4</th>\n",
       "      <td>0.426300</td>\n",
       "      <td>0.681860</td>\n",
       "      <td>0.536312</td>\n",
       "      <td>0.630398</td>\n",
       "    </tr>\n",
       "    <tr>\n",
       "      <th>5</th>\n",
       "      <td>0.705323</td>\n",
       "      <td>0.326394</td>\n",
       "      <td>0.722340</td>\n",
       "      <td>0.168979</td>\n",
       "    </tr>\n",
       "    <tr>\n",
       "      <th>6</th>\n",
       "      <td>0.902566</td>\n",
       "      <td>0.767688</td>\n",
       "      <td>0.059578</td>\n",
       "      <td>0.009243</td>\n",
       "    </tr>\n",
       "    <tr>\n",
       "      <th>7</th>\n",
       "      <td>0.751342</td>\n",
       "      <td>0.944103</td>\n",
       "      <td>0.690502</td>\n",
       "      <td>0.376611</td>\n",
       "    </tr>\n",
       "    <tr>\n",
       "      <th>8</th>\n",
       "      <td>0.640945</td>\n",
       "      <td>0.193237</td>\n",
       "      <td>0.253049</td>\n",
       "      <td>0.980972</td>\n",
       "    </tr>\n",
       "    <tr>\n",
       "      <th>9</th>\n",
       "      <td>0.931909</td>\n",
       "      <td>0.765536</td>\n",
       "      <td>0.571188</td>\n",
       "      <td>0.707392</td>\n",
       "    </tr>\n",
       "    <tr>\n",
       "      <th>10</th>\n",
       "      <td>0.544912</td>\n",
       "      <td>0.378591</td>\n",
       "      <td>0.930977</td>\n",
       "      <td>0.614311</td>\n",
       "    </tr>\n",
       "    <tr>\n",
       "      <th>11</th>\n",
       "      <td>0.877916</td>\n",
       "      <td>0.069718</td>\n",
       "      <td>0.060557</td>\n",
       "      <td>0.061804</td>\n",
       "    </tr>\n",
       "    <tr>\n",
       "      <th>12</th>\n",
       "      <td>0.059101</td>\n",
       "      <td>0.023480</td>\n",
       "      <td>0.252590</td>\n",
       "      <td>0.057520</td>\n",
       "    </tr>\n",
       "    <tr>\n",
       "      <th>13</th>\n",
       "      <td>0.845959</td>\n",
       "      <td>0.575085</td>\n",
       "      <td>0.404648</td>\n",
       "      <td>0.189638</td>\n",
       "    </tr>\n",
       "    <tr>\n",
       "      <th>14</th>\n",
       "      <td>0.670986</td>\n",
       "      <td>0.917938</td>\n",
       "      <td>0.996271</td>\n",
       "      <td>0.803915</td>\n",
       "    </tr>\n",
       "    <tr>\n",
       "      <th>15</th>\n",
       "      <td>0.722785</td>\n",
       "      <td>0.724338</td>\n",
       "      <td>0.436484</td>\n",
       "      <td>0.534651</td>\n",
       "    </tr>\n",
       "    <tr>\n",
       "      <th>16</th>\n",
       "      <td>0.340004</td>\n",
       "      <td>0.403197</td>\n",
       "      <td>0.283540</td>\n",
       "      <td>0.389639</td>\n",
       "    </tr>\n",
       "    <tr>\n",
       "      <th>17</th>\n",
       "      <td>0.561081</td>\n",
       "      <td>0.197126</td>\n",
       "      <td>0.171480</td>\n",
       "      <td>0.372033</td>\n",
       "    </tr>\n",
       "    <tr>\n",
       "      <th>18</th>\n",
       "      <td>0.306492</td>\n",
       "      <td>0.005692</td>\n",
       "      <td>0.523021</td>\n",
       "      <td>0.872431</td>\n",
       "    </tr>\n",
       "    <tr>\n",
       "      <th>19</th>\n",
       "      <td>0.092682</td>\n",
       "      <td>0.653189</td>\n",
       "      <td>0.613185</td>\n",
       "      <td>0.226842</td>\n",
       "    </tr>\n",
       "  </tbody>\n",
       "</table>\n",
       "</div>"
      ],
      "text/plain": [
       "     Column1   Column2   Column3   Column4\n",
       "0   0.705260  0.292067  0.469932  0.712837\n",
       "1   0.051675  0.338052  0.996408  0.462993\n",
       "2   0.564711  0.874236  0.888386  0.170479\n",
       "3   0.733696  0.167635  0.129567  0.610767\n",
       "4   0.426300  0.681860  0.536312  0.630398\n",
       "5   0.705323  0.326394  0.722340  0.168979\n",
       "6   0.902566  0.767688  0.059578  0.009243\n",
       "7   0.751342  0.944103  0.690502  0.376611\n",
       "8   0.640945  0.193237  0.253049  0.980972\n",
       "9   0.931909  0.765536  0.571188  0.707392\n",
       "10  0.544912  0.378591  0.930977  0.614311\n",
       "11  0.877916  0.069718  0.060557  0.061804\n",
       "12  0.059101  0.023480  0.252590  0.057520\n",
       "13  0.845959  0.575085  0.404648  0.189638\n",
       "14  0.670986  0.917938  0.996271  0.803915\n",
       "15  0.722785  0.724338  0.436484  0.534651\n",
       "16  0.340004  0.403197  0.283540  0.389639\n",
       "17  0.561081  0.197126  0.171480  0.372033\n",
       "18  0.306492  0.005692  0.523021  0.872431\n",
       "19  0.092682  0.653189  0.613185  0.226842"
      ]
     },
     "execution_count": 21,
     "metadata": {},
     "output_type": "execute_result"
    }
   ],
   "source": [
    "df"
   ]
  },
  {
   "cell_type": "code",
   "execution_count": 22,
   "id": "1474a31b",
   "metadata": {},
   "outputs": [
    {
     "data": {
      "text/html": [
       "<div>\n",
       "<style scoped>\n",
       "    .dataframe tbody tr th:only-of-type {\n",
       "        vertical-align: middle;\n",
       "    }\n",
       "\n",
       "    .dataframe tbody tr th {\n",
       "        vertical-align: top;\n",
       "    }\n",
       "\n",
       "    .dataframe thead th {\n",
       "        text-align: right;\n",
       "    }\n",
       "</style>\n",
       "<table border=\"1\" class=\"dataframe\">\n",
       "  <thead>\n",
       "    <tr style=\"text-align: right;\">\n",
       "      <th></th>\n",
       "      <th>Column1</th>\n",
       "      <th>Column2</th>\n",
       "      <th>Column3</th>\n",
       "      <th>Column4</th>\n",
       "    </tr>\n",
       "  </thead>\n",
       "  <tbody>\n",
       "    <tr>\n",
       "      <th>0</th>\n",
       "      <td>0.705260</td>\n",
       "      <td>0.292067</td>\n",
       "      <td>0.469932</td>\n",
       "      <td>0.712837</td>\n",
       "    </tr>\n",
       "    <tr>\n",
       "      <th>1</th>\n",
       "      <td>0.051675</td>\n",
       "      <td>0.338052</td>\n",
       "      <td>0.996408</td>\n",
       "      <td>0.462993</td>\n",
       "    </tr>\n",
       "    <tr>\n",
       "      <th>2</th>\n",
       "      <td>0.564711</td>\n",
       "      <td>0.874236</td>\n",
       "      <td>0.888386</td>\n",
       "      <td>0.170479</td>\n",
       "    </tr>\n",
       "    <tr>\n",
       "      <th>3</th>\n",
       "      <td>0.733696</td>\n",
       "      <td>0.167635</td>\n",
       "      <td>0.129567</td>\n",
       "      <td>0.610767</td>\n",
       "    </tr>\n",
       "    <tr>\n",
       "      <th>4</th>\n",
       "      <td>0.426300</td>\n",
       "      <td>0.681860</td>\n",
       "      <td>0.536312</td>\n",
       "      <td>0.630398</td>\n",
       "    </tr>\n",
       "  </tbody>\n",
       "</table>\n",
       "</div>"
      ],
      "text/plain": [
       "    Column1   Column2   Column3   Column4\n",
       "0  0.705260  0.292067  0.469932  0.712837\n",
       "1  0.051675  0.338052  0.996408  0.462993\n",
       "2  0.564711  0.874236  0.888386  0.170479\n",
       "3  0.733696  0.167635  0.129567  0.610767\n",
       "4  0.426300  0.681860  0.536312  0.630398"
      ]
     },
     "execution_count": 22,
     "metadata": {},
     "output_type": "execute_result"
    }
   ],
   "source": [
    "df.head()"
   ]
  },
  {
   "cell_type": "code",
   "execution_count": 23,
   "id": "90f06694",
   "metadata": {},
   "outputs": [
    {
     "data": {
      "text/html": [
       "<div>\n",
       "<style scoped>\n",
       "    .dataframe tbody tr th:only-of-type {\n",
       "        vertical-align: middle;\n",
       "    }\n",
       "\n",
       "    .dataframe tbody tr th {\n",
       "        vertical-align: top;\n",
       "    }\n",
       "\n",
       "    .dataframe thead th {\n",
       "        text-align: right;\n",
       "    }\n",
       "</style>\n",
       "<table border=\"1\" class=\"dataframe\">\n",
       "  <thead>\n",
       "    <tr style=\"text-align: right;\">\n",
       "      <th></th>\n",
       "      <th>Column1</th>\n",
       "      <th>Column2</th>\n",
       "      <th>Column3</th>\n",
       "      <th>Column4</th>\n",
       "    </tr>\n",
       "  </thead>\n",
       "  <tbody>\n",
       "    <tr>\n",
       "      <th>15</th>\n",
       "      <td>0.722785</td>\n",
       "      <td>0.724338</td>\n",
       "      <td>0.436484</td>\n",
       "      <td>0.534651</td>\n",
       "    </tr>\n",
       "    <tr>\n",
       "      <th>16</th>\n",
       "      <td>0.340004</td>\n",
       "      <td>0.403197</td>\n",
       "      <td>0.283540</td>\n",
       "      <td>0.389639</td>\n",
       "    </tr>\n",
       "    <tr>\n",
       "      <th>17</th>\n",
       "      <td>0.561081</td>\n",
       "      <td>0.197126</td>\n",
       "      <td>0.171480</td>\n",
       "      <td>0.372033</td>\n",
       "    </tr>\n",
       "    <tr>\n",
       "      <th>18</th>\n",
       "      <td>0.306492</td>\n",
       "      <td>0.005692</td>\n",
       "      <td>0.523021</td>\n",
       "      <td>0.872431</td>\n",
       "    </tr>\n",
       "    <tr>\n",
       "      <th>19</th>\n",
       "      <td>0.092682</td>\n",
       "      <td>0.653189</td>\n",
       "      <td>0.613185</td>\n",
       "      <td>0.226842</td>\n",
       "    </tr>\n",
       "  </tbody>\n",
       "</table>\n",
       "</div>"
      ],
      "text/plain": [
       "     Column1   Column2   Column3   Column4\n",
       "15  0.722785  0.724338  0.436484  0.534651\n",
       "16  0.340004  0.403197  0.283540  0.389639\n",
       "17  0.561081  0.197126  0.171480  0.372033\n",
       "18  0.306492  0.005692  0.523021  0.872431\n",
       "19  0.092682  0.653189  0.613185  0.226842"
      ]
     },
     "execution_count": 23,
     "metadata": {},
     "output_type": "execute_result"
    }
   ],
   "source": [
    "df.tail()"
   ]
  },
  {
   "cell_type": "code",
   "execution_count": 24,
   "id": "89e72c6a",
   "metadata": {},
   "outputs": [
    {
     "data": {
      "text/plain": [
       "Column1    0\n",
       "Column2    0\n",
       "Column3    0\n",
       "Column4    0\n",
       "dtype: int64"
      ]
     },
     "execution_count": 24,
     "metadata": {},
     "output_type": "execute_result"
    }
   ],
   "source": [
    "df.isnull().sum()"
   ]
  },
  {
   "cell_type": "code",
   "execution_count": 25,
   "id": "c015b7f9",
   "metadata": {},
   "outputs": [
    {
     "data": {
      "text/plain": [
       "(20, 4)"
      ]
     },
     "execution_count": 25,
     "metadata": {},
     "output_type": "execute_result"
    }
   ],
   "source": [
    "df.shape"
   ]
  },
  {
   "cell_type": "code",
   "execution_count": 27,
   "id": "98a08134",
   "metadata": {},
   "outputs": [
    {
     "data": {
      "text/html": [
       "<div>\n",
       "<style scoped>\n",
       "    .dataframe tbody tr th:only-of-type {\n",
       "        vertical-align: middle;\n",
       "    }\n",
       "\n",
       "    .dataframe tbody tr th {\n",
       "        vertical-align: top;\n",
       "    }\n",
       "\n",
       "    .dataframe thead th {\n",
       "        text-align: right;\n",
       "    }\n",
       "</style>\n",
       "<table border=\"1\" class=\"dataframe\">\n",
       "  <thead>\n",
       "    <tr style=\"text-align: right;\">\n",
       "      <th></th>\n",
       "      <th>Column1</th>\n",
       "      <th>Column2</th>\n",
       "      <th>Column3</th>\n",
       "      <th>Column4</th>\n",
       "    </tr>\n",
       "  </thead>\n",
       "  <tbody>\n",
       "    <tr>\n",
       "      <th>Column1</th>\n",
       "      <td>1.000000</td>\n",
       "      <td>0.300820</td>\n",
       "      <td>-0.261182</td>\n",
       "      <td>0.017818</td>\n",
       "    </tr>\n",
       "    <tr>\n",
       "      <th>Column2</th>\n",
       "      <td>0.300820</td>\n",
       "      <td>1.000000</td>\n",
       "      <td>0.443056</td>\n",
       "      <td>-0.065621</td>\n",
       "    </tr>\n",
       "    <tr>\n",
       "      <th>Column3</th>\n",
       "      <td>-0.261182</td>\n",
       "      <td>0.443056</td>\n",
       "      <td>1.000000</td>\n",
       "      <td>0.238002</td>\n",
       "    </tr>\n",
       "    <tr>\n",
       "      <th>Column4</th>\n",
       "      <td>0.017818</td>\n",
       "      <td>-0.065621</td>\n",
       "      <td>0.238002</td>\n",
       "      <td>1.000000</td>\n",
       "    </tr>\n",
       "  </tbody>\n",
       "</table>\n",
       "</div>"
      ],
      "text/plain": [
       "          Column1   Column2   Column3   Column4\n",
       "Column1  1.000000  0.300820 -0.261182  0.017818\n",
       "Column2  0.300820  1.000000  0.443056 -0.065621\n",
       "Column3 -0.261182  0.443056  1.000000  0.238002\n",
       "Column4  0.017818 -0.065621  0.238002  1.000000"
      ]
     },
     "execution_count": 27,
     "metadata": {},
     "output_type": "execute_result"
    }
   ],
   "source": [
    "df.corr()"
   ]
  },
  {
   "cell_type": "code",
   "execution_count": 29,
   "id": "6e99da8a",
   "metadata": {},
   "outputs": [
    {
     "data": {
      "text/plain": [
       "Column1    0.276117\n",
       "Column2    0.309383\n",
       "Column3    0.303493\n",
       "Column4    0.290407\n",
       "dtype: float64"
      ]
     },
     "execution_count": 29,
     "metadata": {},
     "output_type": "execute_result"
    }
   ],
   "source": [
    "df.std()"
   ]
  },
  {
   "cell_type": "code",
   "execution_count": 30,
   "id": "87cf0b09",
   "metadata": {},
   "outputs": [
    {
     "data": {
      "text/html": [
       "<div>\n",
       "<style scoped>\n",
       "    .dataframe tbody tr th:only-of-type {\n",
       "        vertical-align: middle;\n",
       "    }\n",
       "\n",
       "    .dataframe tbody tr th {\n",
       "        vertical-align: top;\n",
       "    }\n",
       "\n",
       "    .dataframe thead th {\n",
       "        text-align: right;\n",
       "    }\n",
       "</style>\n",
       "<table border=\"1\" class=\"dataframe\">\n",
       "  <thead>\n",
       "    <tr style=\"text-align: right;\">\n",
       "      <th></th>\n",
       "      <th>Column1</th>\n",
       "      <th>Column2</th>\n",
       "      <th>Column3</th>\n",
       "      <th>Column4</th>\n",
       "    </tr>\n",
       "  </thead>\n",
       "  <tbody>\n",
       "    <tr>\n",
       "      <th>count</th>\n",
       "      <td>20.000000</td>\n",
       "      <td>20.000000</td>\n",
       "      <td>20.000000</td>\n",
       "      <td>20.000000</td>\n",
       "    </tr>\n",
       "    <tr>\n",
       "      <th>mean</th>\n",
       "      <td>0.571782</td>\n",
       "      <td>0.464958</td>\n",
       "      <td>0.499501</td>\n",
       "      <td>0.447673</td>\n",
       "    </tr>\n",
       "    <tr>\n",
       "      <th>std</th>\n",
       "      <td>0.276117</td>\n",
       "      <td>0.309383</td>\n",
       "      <td>0.303493</td>\n",
       "      <td>0.290407</td>\n",
       "    </tr>\n",
       "    <tr>\n",
       "      <th>min</th>\n",
       "      <td>0.051675</td>\n",
       "      <td>0.005692</td>\n",
       "      <td>0.059578</td>\n",
       "      <td>0.009243</td>\n",
       "    </tr>\n",
       "    <tr>\n",
       "      <th>25%</th>\n",
       "      <td>0.404726</td>\n",
       "      <td>0.196154</td>\n",
       "      <td>0.252935</td>\n",
       "      <td>0.184848</td>\n",
       "    </tr>\n",
       "    <tr>\n",
       "      <th>50%</th>\n",
       "      <td>0.655966</td>\n",
       "      <td>0.390894</td>\n",
       "      <td>0.496477</td>\n",
       "      <td>0.426316</td>\n",
       "    </tr>\n",
       "    <tr>\n",
       "      <th>75%</th>\n",
       "      <td>0.738107</td>\n",
       "      <td>0.734637</td>\n",
       "      <td>0.698462</td>\n",
       "      <td>0.649647</td>\n",
       "    </tr>\n",
       "    <tr>\n",
       "      <th>max</th>\n",
       "      <td>0.931909</td>\n",
       "      <td>0.944103</td>\n",
       "      <td>0.996408</td>\n",
       "      <td>0.980972</td>\n",
       "    </tr>\n",
       "  </tbody>\n",
       "</table>\n",
       "</div>"
      ],
      "text/plain": [
       "         Column1    Column2    Column3    Column4\n",
       "count  20.000000  20.000000  20.000000  20.000000\n",
       "mean    0.571782   0.464958   0.499501   0.447673\n",
       "std     0.276117   0.309383   0.303493   0.290407\n",
       "min     0.051675   0.005692   0.059578   0.009243\n",
       "25%     0.404726   0.196154   0.252935   0.184848\n",
       "50%     0.655966   0.390894   0.496477   0.426316\n",
       "75%     0.738107   0.734637   0.698462   0.649647\n",
       "max     0.931909   0.944103   0.996408   0.980972"
      ]
     },
     "execution_count": 30,
     "metadata": {},
     "output_type": "execute_result"
    }
   ],
   "source": [
    "df.describe()"
   ]
  },
  {
   "cell_type": "code",
   "execution_count": 36,
   "id": "78ef9797",
   "metadata": {},
   "outputs": [
    {
     "data": {
      "text/html": [
       "<div>\n",
       "<style scoped>\n",
       "    .dataframe tbody tr th:only-of-type {\n",
       "        vertical-align: middle;\n",
       "    }\n",
       "\n",
       "    .dataframe tbody tr th {\n",
       "        vertical-align: top;\n",
       "    }\n",
       "\n",
       "    .dataframe thead th {\n",
       "        text-align: right;\n",
       "    }\n",
       "</style>\n",
       "<table border=\"1\" class=\"dataframe\">\n",
       "  <thead>\n",
       "    <tr style=\"text-align: right;\">\n",
       "      <th></th>\n",
       "      <th>Column1</th>\n",
       "      <th>Column2</th>\n",
       "      <th>Column3</th>\n",
       "      <th>Column4</th>\n",
       "    </tr>\n",
       "  </thead>\n",
       "  <tbody>\n",
       "    <tr>\n",
       "      <th>0</th>\n",
       "      <td>0.705260</td>\n",
       "      <td>0.292067</td>\n",
       "      <td>0.469932</td>\n",
       "      <td>0.712837</td>\n",
       "    </tr>\n",
       "    <tr>\n",
       "      <th>1</th>\n",
       "      <td>0.051675</td>\n",
       "      <td>0.338052</td>\n",
       "      <td>0.996408</td>\n",
       "      <td>0.462993</td>\n",
       "    </tr>\n",
       "    <tr>\n",
       "      <th>2</th>\n",
       "      <td>0.564711</td>\n",
       "      <td>0.874236</td>\n",
       "      <td>0.888386</td>\n",
       "      <td>0.170479</td>\n",
       "    </tr>\n",
       "    <tr>\n",
       "      <th>3</th>\n",
       "      <td>0.733696</td>\n",
       "      <td>0.167635</td>\n",
       "      <td>0.129567</td>\n",
       "      <td>0.610767</td>\n",
       "    </tr>\n",
       "    <tr>\n",
       "      <th>4</th>\n",
       "      <td>0.426300</td>\n",
       "      <td>0.681860</td>\n",
       "      <td>0.536312</td>\n",
       "      <td>0.630398</td>\n",
       "    </tr>\n",
       "    <tr>\n",
       "      <th>5</th>\n",
       "      <td>0.705323</td>\n",
       "      <td>0.326394</td>\n",
       "      <td>0.722340</td>\n",
       "      <td>0.168979</td>\n",
       "    </tr>\n",
       "    <tr>\n",
       "      <th>6</th>\n",
       "      <td>0.902566</td>\n",
       "      <td>0.767688</td>\n",
       "      <td>0.059578</td>\n",
       "      <td>0.009243</td>\n",
       "    </tr>\n",
       "    <tr>\n",
       "      <th>7</th>\n",
       "      <td>0.751342</td>\n",
       "      <td>0.944103</td>\n",
       "      <td>0.690502</td>\n",
       "      <td>0.376611</td>\n",
       "    </tr>\n",
       "    <tr>\n",
       "      <th>8</th>\n",
       "      <td>0.640945</td>\n",
       "      <td>0.193237</td>\n",
       "      <td>0.253049</td>\n",
       "      <td>0.980972</td>\n",
       "    </tr>\n",
       "    <tr>\n",
       "      <th>9</th>\n",
       "      <td>0.931909</td>\n",
       "      <td>0.765536</td>\n",
       "      <td>0.571188</td>\n",
       "      <td>0.707392</td>\n",
       "    </tr>\n",
       "    <tr>\n",
       "      <th>10</th>\n",
       "      <td>0.544912</td>\n",
       "      <td>0.378591</td>\n",
       "      <td>0.930977</td>\n",
       "      <td>0.614311</td>\n",
       "    </tr>\n",
       "    <tr>\n",
       "      <th>11</th>\n",
       "      <td>0.877916</td>\n",
       "      <td>0.069718</td>\n",
       "      <td>0.060557</td>\n",
       "      <td>0.061804</td>\n",
       "    </tr>\n",
       "    <tr>\n",
       "      <th>12</th>\n",
       "      <td>0.059101</td>\n",
       "      <td>0.023480</td>\n",
       "      <td>0.252590</td>\n",
       "      <td>0.057520</td>\n",
       "    </tr>\n",
       "    <tr>\n",
       "      <th>13</th>\n",
       "      <td>0.845959</td>\n",
       "      <td>0.575085</td>\n",
       "      <td>0.404648</td>\n",
       "      <td>0.189638</td>\n",
       "    </tr>\n",
       "    <tr>\n",
       "      <th>14</th>\n",
       "      <td>0.670986</td>\n",
       "      <td>0.917938</td>\n",
       "      <td>0.996271</td>\n",
       "      <td>0.803915</td>\n",
       "    </tr>\n",
       "    <tr>\n",
       "      <th>15</th>\n",
       "      <td>0.722785</td>\n",
       "      <td>0.724338</td>\n",
       "      <td>0.436484</td>\n",
       "      <td>0.534651</td>\n",
       "    </tr>\n",
       "    <tr>\n",
       "      <th>16</th>\n",
       "      <td>0.340004</td>\n",
       "      <td>0.403197</td>\n",
       "      <td>0.283540</td>\n",
       "      <td>0.389639</td>\n",
       "    </tr>\n",
       "    <tr>\n",
       "      <th>17</th>\n",
       "      <td>0.561081</td>\n",
       "      <td>0.197126</td>\n",
       "      <td>0.171480</td>\n",
       "      <td>0.372033</td>\n",
       "    </tr>\n",
       "    <tr>\n",
       "      <th>18</th>\n",
       "      <td>0.306492</td>\n",
       "      <td>0.005692</td>\n",
       "      <td>0.523021</td>\n",
       "      <td>0.872431</td>\n",
       "    </tr>\n",
       "    <tr>\n",
       "      <th>19</th>\n",
       "      <td>0.092682</td>\n",
       "      <td>0.653189</td>\n",
       "      <td>0.613185</td>\n",
       "      <td>0.226842</td>\n",
       "    </tr>\n",
       "  </tbody>\n",
       "</table>\n",
       "</div>"
      ],
      "text/plain": [
       "     Column1   Column2   Column3   Column4\n",
       "0   0.705260  0.292067  0.469932  0.712837\n",
       "1   0.051675  0.338052  0.996408  0.462993\n",
       "2   0.564711  0.874236  0.888386  0.170479\n",
       "3   0.733696  0.167635  0.129567  0.610767\n",
       "4   0.426300  0.681860  0.536312  0.630398\n",
       "5   0.705323  0.326394  0.722340  0.168979\n",
       "6   0.902566  0.767688  0.059578  0.009243\n",
       "7   0.751342  0.944103  0.690502  0.376611\n",
       "8   0.640945  0.193237  0.253049  0.980972\n",
       "9   0.931909  0.765536  0.571188  0.707392\n",
       "10  0.544912  0.378591  0.930977  0.614311\n",
       "11  0.877916  0.069718  0.060557  0.061804\n",
       "12  0.059101  0.023480  0.252590  0.057520\n",
       "13  0.845959  0.575085  0.404648  0.189638\n",
       "14  0.670986  0.917938  0.996271  0.803915\n",
       "15  0.722785  0.724338  0.436484  0.534651\n",
       "16  0.340004  0.403197  0.283540  0.389639\n",
       "17  0.561081  0.197126  0.171480  0.372033\n",
       "18  0.306492  0.005692  0.523021  0.872431\n",
       "19  0.092682  0.653189  0.613185  0.226842"
      ]
     },
     "execution_count": 36,
     "metadata": {},
     "output_type": "execute_result"
    }
   ],
   "source": [
    "df"
   ]
  },
  {
   "cell_type": "code",
   "execution_count": 39,
   "id": "6a99f1ec",
   "metadata": {},
   "outputs": [
    {
     "data": {
      "text/html": [
       "<div>\n",
       "<style scoped>\n",
       "    .dataframe tbody tr th:only-of-type {\n",
       "        vertical-align: middle;\n",
       "    }\n",
       "\n",
       "    .dataframe tbody tr th {\n",
       "        vertical-align: top;\n",
       "    }\n",
       "\n",
       "    .dataframe thead th {\n",
       "        text-align: right;\n",
       "    }\n",
       "</style>\n",
       "<table border=\"1\" class=\"dataframe\">\n",
       "  <thead>\n",
       "    <tr style=\"text-align: right;\">\n",
       "      <th></th>\n",
       "      <th>Column1</th>\n",
       "      <th>Column2</th>\n",
       "      <th>Column3</th>\n",
       "      <th>Column4</th>\n",
       "    </tr>\n",
       "  </thead>\n",
       "  <tbody>\n",
       "    <tr>\n",
       "      <th>0</th>\n",
       "      <td>0.705260</td>\n",
       "      <td>0.292067</td>\n",
       "      <td>0.469932</td>\n",
       "      <td>0.712837</td>\n",
       "    </tr>\n",
       "    <tr>\n",
       "      <th>11</th>\n",
       "      <td>0.877916</td>\n",
       "      <td>0.069718</td>\n",
       "      <td>0.060557</td>\n",
       "      <td>0.061804</td>\n",
       "    </tr>\n",
       "    <tr>\n",
       "      <th>12</th>\n",
       "      <td>0.059101</td>\n",
       "      <td>0.023480</td>\n",
       "      <td>0.252590</td>\n",
       "      <td>0.057520</td>\n",
       "    </tr>\n",
       "    <tr>\n",
       "      <th>13</th>\n",
       "      <td>0.845959</td>\n",
       "      <td>0.575085</td>\n",
       "      <td>0.404648</td>\n",
       "      <td>0.189638</td>\n",
       "    </tr>\n",
       "    <tr>\n",
       "      <th>14</th>\n",
       "      <td>0.670986</td>\n",
       "      <td>0.917938</td>\n",
       "      <td>0.996271</td>\n",
       "      <td>0.803915</td>\n",
       "    </tr>\n",
       "    <tr>\n",
       "      <th>15</th>\n",
       "      <td>0.722785</td>\n",
       "      <td>0.724338</td>\n",
       "      <td>0.436484</td>\n",
       "      <td>0.534651</td>\n",
       "    </tr>\n",
       "    <tr>\n",
       "      <th>16</th>\n",
       "      <td>0.340004</td>\n",
       "      <td>0.403197</td>\n",
       "      <td>0.283540</td>\n",
       "      <td>0.389639</td>\n",
       "    </tr>\n",
       "    <tr>\n",
       "      <th>17</th>\n",
       "      <td>0.561081</td>\n",
       "      <td>0.197126</td>\n",
       "      <td>0.171480</td>\n",
       "      <td>0.372033</td>\n",
       "    </tr>\n",
       "    <tr>\n",
       "      <th>18</th>\n",
       "      <td>0.306492</td>\n",
       "      <td>0.005692</td>\n",
       "      <td>0.523021</td>\n",
       "      <td>0.872431</td>\n",
       "    </tr>\n",
       "    <tr>\n",
       "      <th>19</th>\n",
       "      <td>0.092682</td>\n",
       "      <td>0.653189</td>\n",
       "      <td>0.613185</td>\n",
       "      <td>0.226842</td>\n",
       "    </tr>\n",
       "  </tbody>\n",
       "</table>\n",
       "</div>"
      ],
      "text/plain": [
       "     Column1   Column2   Column3   Column4\n",
       "0   0.705260  0.292067  0.469932  0.712837\n",
       "11  0.877916  0.069718  0.060557  0.061804\n",
       "12  0.059101  0.023480  0.252590  0.057520\n",
       "13  0.845959  0.575085  0.404648  0.189638\n",
       "14  0.670986  0.917938  0.996271  0.803915\n",
       "15  0.722785  0.724338  0.436484  0.534651\n",
       "16  0.340004  0.403197  0.283540  0.389639\n",
       "17  0.561081  0.197126  0.171480  0.372033\n",
       "18  0.306492  0.005692  0.523021  0.872431\n",
       "19  0.092682  0.653189  0.613185  0.226842"
      ]
     },
     "execution_count": 39,
     "metadata": {},
     "output_type": "execute_result"
    }
   ],
   "source": [
    "df.drop([1,2,3,4,5,6,7,8,9,10])"
   ]
  },
  {
   "cell_type": "code",
   "execution_count": 42,
   "id": "e749c2a7",
   "metadata": {},
   "outputs": [
    {
     "data": {
      "text/plain": [
       "Column1   Column2   Column3   Column4 \n",
       "0.051675  0.338052  0.996408  0.462993    1\n",
       "0.059101  0.023480  0.252590  0.057520    1\n",
       "0.902566  0.767688  0.059578  0.009243    1\n",
       "0.877916  0.069718  0.060557  0.061804    1\n",
       "0.845959  0.575085  0.404648  0.189638    1\n",
       "0.751342  0.944103  0.690502  0.376611    1\n",
       "0.733696  0.167635  0.129567  0.610767    1\n",
       "0.722785  0.724338  0.436484  0.534651    1\n",
       "0.705323  0.326394  0.722340  0.168979    1\n",
       "0.705260  0.292067  0.469932  0.712837    1\n",
       "0.670986  0.917938  0.996271  0.803915    1\n",
       "0.640945  0.193237  0.253049  0.980972    1\n",
       "0.564711  0.874236  0.888386  0.170479    1\n",
       "0.561081  0.197126  0.171480  0.372033    1\n",
       "0.544912  0.378591  0.930977  0.614311    1\n",
       "0.426300  0.681860  0.536312  0.630398    1\n",
       "0.340004  0.403197  0.283540  0.389639    1\n",
       "0.306492  0.005692  0.523021  0.872431    1\n",
       "0.092682  0.653189  0.613185  0.226842    1\n",
       "0.931909  0.765536  0.571188  0.707392    1\n",
       "dtype: int64"
      ]
     },
     "execution_count": 42,
     "metadata": {},
     "output_type": "execute_result"
    }
   ],
   "source": [
    "df.value_counts()"
   ]
  },
  {
   "cell_type": "code",
   "execution_count": 46,
   "id": "2a76963f",
   "metadata": {},
   "outputs": [
    {
     "data": {
      "text/plain": [
       "0     False\n",
       "1     False\n",
       "2     False\n",
       "3     False\n",
       "4     False\n",
       "5     False\n",
       "6     False\n",
       "7     False\n",
       "8     False\n",
       "9     False\n",
       "10    False\n",
       "11    False\n",
       "12    False\n",
       "13    False\n",
       "14    False\n",
       "15    False\n",
       "16    False\n",
       "17    False\n",
       "18    False\n",
       "19    False\n",
       "dtype: bool"
      ]
     },
     "execution_count": 46,
     "metadata": {},
     "output_type": "execute_result"
    }
   ],
   "source": [
    "df.duplicated()"
   ]
  },
  {
   "cell_type": "markdown",
   "id": "cd1f00d4",
   "metadata": {},
   "source": [
    "## Numpy Functions"
   ]
  },
  {
   "cell_type": "code",
   "execution_count": 49,
   "id": "875db08c",
   "metadata": {},
   "outputs": [],
   "source": [
    "a = np.arange(101)"
   ]
  },
  {
   "cell_type": "code",
   "execution_count": 48,
   "id": "f27a86e2",
   "metadata": {},
   "outputs": [
    {
     "data": {
      "text/plain": [
       "array([ 0,  1,  2,  3,  4,  5,  6,  7,  8,  9, 10, 11, 12, 13, 14, 15, 16,\n",
       "       17, 18, 19, 20, 21, 22, 23, 24, 25, 26, 27, 28, 29, 30, 31, 32, 33,\n",
       "       34, 35, 36, 37, 38, 39, 40, 41, 42, 43, 44, 45, 46, 47, 48, 49, 50,\n",
       "       51, 52, 53, 54, 55, 56, 57, 58, 59, 60, 61, 62, 63, 64, 65, 66, 67,\n",
       "       68, 69, 70, 71, 72, 73, 74, 75, 76, 77, 78, 79, 80, 81, 82, 83, 84,\n",
       "       85, 86, 87, 88, 89, 90, 91, 92, 93, 94, 95, 96, 97, 98, 99])"
      ]
     },
     "execution_count": 48,
     "metadata": {},
     "output_type": "execute_result"
    }
   ],
   "source": [
    "a"
   ]
  },
  {
   "cell_type": "code",
   "execution_count": 53,
   "id": "2bcd1c93",
   "metadata": {},
   "outputs": [],
   "source": [
    "b = np.linspace(1,200)"
   ]
  },
  {
   "cell_type": "code",
   "execution_count": 54,
   "id": "1c1b2bfb",
   "metadata": {},
   "outputs": [
    {
     "data": {
      "text/plain": [
       "array([  1.        ,   5.06122449,   9.12244898,  13.18367347,\n",
       "        17.24489796,  21.30612245,  25.36734694,  29.42857143,\n",
       "        33.48979592,  37.55102041,  41.6122449 ,  45.67346939,\n",
       "        49.73469388,  53.79591837,  57.85714286,  61.91836735,\n",
       "        65.97959184,  70.04081633,  74.10204082,  78.16326531,\n",
       "        82.2244898 ,  86.28571429,  90.34693878,  94.40816327,\n",
       "        98.46938776, 102.53061224, 106.59183673, 110.65306122,\n",
       "       114.71428571, 118.7755102 , 122.83673469, 126.89795918,\n",
       "       130.95918367, 135.02040816, 139.08163265, 143.14285714,\n",
       "       147.20408163, 151.26530612, 155.32653061, 159.3877551 ,\n",
       "       163.44897959, 167.51020408, 171.57142857, 175.63265306,\n",
       "       179.69387755, 183.75510204, 187.81632653, 191.87755102,\n",
       "       195.93877551, 200.        ])"
      ]
     },
     "execution_count": 54,
     "metadata": {},
     "output_type": "execute_result"
    }
   ],
   "source": [
    "b"
   ]
  },
  {
   "cell_type": "code",
   "execution_count": 60,
   "id": "3c57282d",
   "metadata": {},
   "outputs": [],
   "source": [
    "c = np.zeros(30)"
   ]
  },
  {
   "cell_type": "code",
   "execution_count": 61,
   "id": "45919f2b",
   "metadata": {},
   "outputs": [
    {
     "data": {
      "text/plain": [
       "array([0., 0., 0., 0., 0., 0., 0., 0., 0., 0., 0., 0., 0., 0., 0., 0., 0.,\n",
       "       0., 0., 0., 0., 0., 0., 0., 0., 0., 0., 0., 0., 0.])"
      ]
     },
     "execution_count": 61,
     "metadata": {},
     "output_type": "execute_result"
    }
   ],
   "source": [
    "c"
   ]
  },
  {
   "cell_type": "code",
   "execution_count": 62,
   "id": "142c9e34",
   "metadata": {},
   "outputs": [
    {
     "data": {
      "text/plain": [
       "100.50000000000001"
      ]
     },
     "execution_count": 62,
     "metadata": {},
     "output_type": "execute_result"
    }
   ],
   "source": [
    "np.mean(b)"
   ]
  },
  {
   "cell_type": "code",
   "execution_count": 63,
   "id": "db594100",
   "metadata": {},
   "outputs": [
    {
     "data": {
      "text/plain": [
       "100.5"
      ]
     },
     "execution_count": 63,
     "metadata": {},
     "output_type": "execute_result"
    }
   ],
   "source": [
    "np.median(b)"
   ]
  },
  {
   "cell_type": "code",
   "execution_count": 65,
   "id": "acdc5573",
   "metadata": {},
   "outputs": [
    {
     "data": {
      "text/plain": [
       "3434.7806122448983"
      ]
     },
     "execution_count": 65,
     "metadata": {},
     "output_type": "execute_result"
    }
   ],
   "source": [
    "np.var(b)"
   ]
  }
 ],
 "metadata": {
  "kernelspec": {
   "display_name": "Python 3 (ipykernel)",
   "language": "python",
   "name": "python3"
  },
  "language_info": {
   "codemirror_mode": {
    "name": "ipython",
    "version": 3
   },
   "file_extension": ".py",
   "mimetype": "text/x-python",
   "name": "python",
   "nbconvert_exporter": "python",
   "pygments_lexer": "ipython3",
   "version": "3.10.9"
  }
 },
 "nbformat": 4,
 "nbformat_minor": 5
}
